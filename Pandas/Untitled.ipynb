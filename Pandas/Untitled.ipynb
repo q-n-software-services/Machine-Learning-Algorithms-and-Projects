{
 "cells": [
  {
   "cell_type": "code",
   "execution_count": 4,
   "id": "c2391955",
   "metadata": {},
   "outputs": [],
   "source": [
    "import numpy as np\n",
    "import pandas as pd\n"
   ]
  },
  {
   "cell_type": "code",
   "execution_count": 5,
   "id": "5ef094a0",
   "metadata": {},
   "outputs": [],
   "source": [
    "dict1 = {\n",
    "    'name':['mohib', 'hassaan', 'ahmad', 'maaz'], \n",
    "    'marks':[92, 34, 24, 14],\n",
    "    'city':['islamabad', 'rawalpindi', 'rawalpindi', 'islamabad']\n",
    "}"
   ]
  },
  {
   "cell_type": "code",
   "execution_count": 6,
   "id": "1778c3cd",
   "metadata": {},
   "outputs": [],
   "source": [
    "df = pd.DataFrame(dict1)"
   ]
  },
  {
   "cell_type": "code",
   "execution_count": 7,
   "id": "db41c030",
   "metadata": {},
   "outputs": [
    {
     "data": {
      "text/html": [
       "<div>\n",
       "<style scoped>\n",
       "    .dataframe tbody tr th:only-of-type {\n",
       "        vertical-align: middle;\n",
       "    }\n",
       "\n",
       "    .dataframe tbody tr th {\n",
       "        vertical-align: top;\n",
       "    }\n",
       "\n",
       "    .dataframe thead th {\n",
       "        text-align: right;\n",
       "    }\n",
       "</style>\n",
       "<table border=\"1\" class=\"dataframe\">\n",
       "  <thead>\n",
       "    <tr style=\"text-align: right;\">\n",
       "      <th></th>\n",
       "      <th>name</th>\n",
       "      <th>marks</th>\n",
       "      <th>city</th>\n",
       "    </tr>\n",
       "  </thead>\n",
       "  <tbody>\n",
       "    <tr>\n",
       "      <th>0</th>\n",
       "      <td>mohib</td>\n",
       "      <td>92</td>\n",
       "      <td>islamabad</td>\n",
       "    </tr>\n",
       "    <tr>\n",
       "      <th>1</th>\n",
       "      <td>hassaan</td>\n",
       "      <td>34</td>\n",
       "      <td>rawalpindi</td>\n",
       "    </tr>\n",
       "    <tr>\n",
       "      <th>2</th>\n",
       "      <td>ahmad</td>\n",
       "      <td>24</td>\n",
       "      <td>rawalpindi</td>\n",
       "    </tr>\n",
       "    <tr>\n",
       "      <th>3</th>\n",
       "      <td>maaz</td>\n",
       "      <td>14</td>\n",
       "      <td>islamabad</td>\n",
       "    </tr>\n",
       "  </tbody>\n",
       "</table>\n",
       "</div>"
      ],
      "text/plain": [
       "      name  marks        city\n",
       "0    mohib     92   islamabad\n",
       "1  hassaan     34  rawalpindi\n",
       "2    ahmad     24  rawalpindi\n",
       "3     maaz     14   islamabad"
      ]
     },
     "execution_count": 7,
     "metadata": {},
     "output_type": "execute_result"
    }
   ],
   "source": [
    "df"
   ]
  },
  {
   "cell_type": "code",
   "execution_count": 8,
   "id": "f0076371",
   "metadata": {},
   "outputs": [],
   "source": [
    "df.to_csv('Mohib.csv')"
   ]
  },
  {
   "cell_type": "code",
   "execution_count": 9,
   "id": "8a503849",
   "metadata": {},
   "outputs": [],
   "source": [
    "df.to_csv('Mohib_indexFalse.csv', index=False)"
   ]
  },
  {
   "cell_type": "code",
   "execution_count": 10,
   "id": "de678585",
   "metadata": {},
   "outputs": [],
   "source": [
    "mydata = pd.read_csv(\"Mohib.csv\")"
   ]
  },
  {
   "cell_type": "code",
   "execution_count": 11,
   "id": "fb123c9d",
   "metadata": {},
   "outputs": [
    {
     "data": {
      "text/html": [
       "<div>\n",
       "<style scoped>\n",
       "    .dataframe tbody tr th:only-of-type {\n",
       "        vertical-align: middle;\n",
       "    }\n",
       "\n",
       "    .dataframe tbody tr th {\n",
       "        vertical-align: top;\n",
       "    }\n",
       "\n",
       "    .dataframe thead th {\n",
       "        text-align: right;\n",
       "    }\n",
       "</style>\n",
       "<table border=\"1\" class=\"dataframe\">\n",
       "  <thead>\n",
       "    <tr style=\"text-align: right;\">\n",
       "      <th></th>\n",
       "      <th>Unnamed: 0</th>\n",
       "      <th>name</th>\n",
       "      <th>marks</th>\n",
       "      <th>city</th>\n",
       "    </tr>\n",
       "  </thead>\n",
       "  <tbody>\n",
       "    <tr>\n",
       "      <th>0</th>\n",
       "      <td>0</td>\n",
       "      <td>mohib</td>\n",
       "      <td>92</td>\n",
       "      <td>islamabad</td>\n",
       "    </tr>\n",
       "    <tr>\n",
       "      <th>1</th>\n",
       "      <td>1</td>\n",
       "      <td>hassaan</td>\n",
       "      <td>34</td>\n",
       "      <td>rawalpindi</td>\n",
       "    </tr>\n",
       "    <tr>\n",
       "      <th>2</th>\n",
       "      <td>2</td>\n",
       "      <td>ahmad</td>\n",
       "      <td>24</td>\n",
       "      <td>rawalpindi</td>\n",
       "    </tr>\n",
       "    <tr>\n",
       "      <th>3</th>\n",
       "      <td>3</td>\n",
       "      <td>maaz</td>\n",
       "      <td>14</td>\n",
       "      <td>islamabad</td>\n",
       "    </tr>\n",
       "  </tbody>\n",
       "</table>\n",
       "</div>"
      ],
      "text/plain": [
       "   Unnamed: 0     name  marks        city\n",
       "0           0    mohib     92   islamabad\n",
       "1           1  hassaan     34  rawalpindi\n",
       "2           2    ahmad     24  rawalpindi\n",
       "3           3     maaz     14   islamabad"
      ]
     },
     "execution_count": 11,
     "metadata": {},
     "output_type": "execute_result"
    }
   ],
   "source": [
    "mydata"
   ]
  },
  {
   "cell_type": "code",
   "execution_count": 12,
   "id": "0a99fab4",
   "metadata": {},
   "outputs": [
    {
     "name": "stderr",
     "output_type": "stream",
     "text": [
      "C:\\Users\\HP\\AppData\\Local\\Temp\\ipykernel_11084\\2968767832.py:1: SettingWithCopyWarning: \n",
      "A value is trying to be set on a copy of a slice from a DataFrame\n",
      "\n",
      "See the caveats in the documentation: https://pandas.pydata.org/pandas-docs/stable/user_guide/indexing.html#returning-a-view-versus-a-copy\n",
      "  mydata[\"marks\"][1] = 72\n"
     ]
    }
   ],
   "source": [
    "mydata[\"marks\"][1] = 72"
   ]
  },
  {
   "cell_type": "code",
   "execution_count": 13,
   "id": "ef70a09e",
   "metadata": {},
   "outputs": [
    {
     "data": {
      "text/html": [
       "<div>\n",
       "<style scoped>\n",
       "    .dataframe tbody tr th:only-of-type {\n",
       "        vertical-align: middle;\n",
       "    }\n",
       "\n",
       "    .dataframe tbody tr th {\n",
       "        vertical-align: top;\n",
       "    }\n",
       "\n",
       "    .dataframe thead th {\n",
       "        text-align: right;\n",
       "    }\n",
       "</style>\n",
       "<table border=\"1\" class=\"dataframe\">\n",
       "  <thead>\n",
       "    <tr style=\"text-align: right;\">\n",
       "      <th></th>\n",
       "      <th>Unnamed: 0</th>\n",
       "      <th>name</th>\n",
       "      <th>marks</th>\n",
       "      <th>city</th>\n",
       "    </tr>\n",
       "  </thead>\n",
       "  <tbody>\n",
       "    <tr>\n",
       "      <th>0</th>\n",
       "      <td>0</td>\n",
       "      <td>mohib</td>\n",
       "      <td>92</td>\n",
       "      <td>islamabad</td>\n",
       "    </tr>\n",
       "    <tr>\n",
       "      <th>1</th>\n",
       "      <td>1</td>\n",
       "      <td>hassaan</td>\n",
       "      <td>72</td>\n",
       "      <td>rawalpindi</td>\n",
       "    </tr>\n",
       "    <tr>\n",
       "      <th>2</th>\n",
       "      <td>2</td>\n",
       "      <td>ahmad</td>\n",
       "      <td>24</td>\n",
       "      <td>rawalpindi</td>\n",
       "    </tr>\n",
       "    <tr>\n",
       "      <th>3</th>\n",
       "      <td>3</td>\n",
       "      <td>maaz</td>\n",
       "      <td>14</td>\n",
       "      <td>islamabad</td>\n",
       "    </tr>\n",
       "  </tbody>\n",
       "</table>\n",
       "</div>"
      ],
      "text/plain": [
       "   Unnamed: 0     name  marks        city\n",
       "0           0    mohib     92   islamabad\n",
       "1           1  hassaan     72  rawalpindi\n",
       "2           2    ahmad     24  rawalpindi\n",
       "3           3     maaz     14   islamabad"
      ]
     },
     "execution_count": 13,
     "metadata": {},
     "output_type": "execute_result"
    }
   ],
   "source": [
    "mydata"
   ]
  },
  {
   "cell_type": "code",
   "execution_count": 14,
   "id": "44eb689e",
   "metadata": {},
   "outputs": [],
   "source": [
    "df.to_csv('Mohib.csv', index=False)"
   ]
  },
  {
   "cell_type": "code",
   "execution_count": 16,
   "id": "d46c12b8",
   "metadata": {},
   "outputs": [],
   "source": [
    " ser = pd.Series(np.random.rand(33))"
   ]
  },
  {
   "cell_type": "code",
   "execution_count": 18,
   "id": "f23868bf",
   "metadata": {},
   "outputs": [
    {
     "data": {
      "text/plain": [
       "pandas.core.series.Series"
      ]
     },
     "execution_count": 18,
     "metadata": {},
     "output_type": "execute_result"
    }
   ],
   "source": [
    "ser\n",
    "type(ser)"
   ]
  },
  {
   "cell_type": "code",
   "execution_count": 19,
   "id": "6b873838",
   "metadata": {},
   "outputs": [],
   "source": [
    "newdf = pd.DataFrame(np.random.rand(334, 5), index=np.arange(334))"
   ]
  },
  {
   "cell_type": "code",
   "execution_count": 20,
   "id": "e9d71391",
   "metadata": {},
   "outputs": [
    {
     "data": {
      "text/html": [
       "<div>\n",
       "<style scoped>\n",
       "    .dataframe tbody tr th:only-of-type {\n",
       "        vertical-align: middle;\n",
       "    }\n",
       "\n",
       "    .dataframe tbody tr th {\n",
       "        vertical-align: top;\n",
       "    }\n",
       "\n",
       "    .dataframe thead th {\n",
       "        text-align: right;\n",
       "    }\n",
       "</style>\n",
       "<table border=\"1\" class=\"dataframe\">\n",
       "  <thead>\n",
       "    <tr style=\"text-align: right;\">\n",
       "      <th></th>\n",
       "      <th>0</th>\n",
       "      <th>1</th>\n",
       "      <th>2</th>\n",
       "      <th>3</th>\n",
       "      <th>4</th>\n",
       "    </tr>\n",
       "  </thead>\n",
       "  <tbody>\n",
       "    <tr>\n",
       "      <th>0</th>\n",
       "      <td>0.699077</td>\n",
       "      <td>0.416630</td>\n",
       "      <td>0.157910</td>\n",
       "      <td>0.955859</td>\n",
       "      <td>0.827944</td>\n",
       "    </tr>\n",
       "    <tr>\n",
       "      <th>1</th>\n",
       "      <td>0.455144</td>\n",
       "      <td>0.991270</td>\n",
       "      <td>0.218873</td>\n",
       "      <td>0.894559</td>\n",
       "      <td>0.229388</td>\n",
       "    </tr>\n",
       "    <tr>\n",
       "      <th>2</th>\n",
       "      <td>0.341444</td>\n",
       "      <td>0.381913</td>\n",
       "      <td>0.372085</td>\n",
       "      <td>0.629267</td>\n",
       "      <td>0.123893</td>\n",
       "    </tr>\n",
       "    <tr>\n",
       "      <th>3</th>\n",
       "      <td>0.990005</td>\n",
       "      <td>0.936700</td>\n",
       "      <td>0.749112</td>\n",
       "      <td>0.240076</td>\n",
       "      <td>0.597547</td>\n",
       "    </tr>\n",
       "    <tr>\n",
       "      <th>4</th>\n",
       "      <td>0.640445</td>\n",
       "      <td>0.060523</td>\n",
       "      <td>0.151445</td>\n",
       "      <td>0.010882</td>\n",
       "      <td>0.368877</td>\n",
       "    </tr>\n",
       "    <tr>\n",
       "      <th>...</th>\n",
       "      <td>...</td>\n",
       "      <td>...</td>\n",
       "      <td>...</td>\n",
       "      <td>...</td>\n",
       "      <td>...</td>\n",
       "    </tr>\n",
       "    <tr>\n",
       "      <th>329</th>\n",
       "      <td>0.635829</td>\n",
       "      <td>0.521523</td>\n",
       "      <td>0.373702</td>\n",
       "      <td>0.823717</td>\n",
       "      <td>0.710480</td>\n",
       "    </tr>\n",
       "    <tr>\n",
       "      <th>330</th>\n",
       "      <td>0.089205</td>\n",
       "      <td>0.868052</td>\n",
       "      <td>0.124112</td>\n",
       "      <td>0.540604</td>\n",
       "      <td>0.962556</td>\n",
       "    </tr>\n",
       "    <tr>\n",
       "      <th>331</th>\n",
       "      <td>0.314451</td>\n",
       "      <td>0.733733</td>\n",
       "      <td>0.428247</td>\n",
       "      <td>0.240409</td>\n",
       "      <td>0.984541</td>\n",
       "    </tr>\n",
       "    <tr>\n",
       "      <th>332</th>\n",
       "      <td>0.905677</td>\n",
       "      <td>0.509311</td>\n",
       "      <td>0.715795</td>\n",
       "      <td>0.352978</td>\n",
       "      <td>0.939338</td>\n",
       "    </tr>\n",
       "    <tr>\n",
       "      <th>333</th>\n",
       "      <td>0.930736</td>\n",
       "      <td>0.021893</td>\n",
       "      <td>0.150696</td>\n",
       "      <td>0.977093</td>\n",
       "      <td>0.286857</td>\n",
       "    </tr>\n",
       "  </tbody>\n",
       "</table>\n",
       "<p>334 rows × 5 columns</p>\n",
       "</div>"
      ],
      "text/plain": [
       "            0         1         2         3         4\n",
       "0    0.699077  0.416630  0.157910  0.955859  0.827944\n",
       "1    0.455144  0.991270  0.218873  0.894559  0.229388\n",
       "2    0.341444  0.381913  0.372085  0.629267  0.123893\n",
       "3    0.990005  0.936700  0.749112  0.240076  0.597547\n",
       "4    0.640445  0.060523  0.151445  0.010882  0.368877\n",
       "..        ...       ...       ...       ...       ...\n",
       "329  0.635829  0.521523  0.373702  0.823717  0.710480\n",
       "330  0.089205  0.868052  0.124112  0.540604  0.962556\n",
       "331  0.314451  0.733733  0.428247  0.240409  0.984541\n",
       "332  0.905677  0.509311  0.715795  0.352978  0.939338\n",
       "333  0.930736  0.021893  0.150696  0.977093  0.286857\n",
       "\n",
       "[334 rows x 5 columns]"
      ]
     },
     "execution_count": 20,
     "metadata": {},
     "output_type": "execute_result"
    }
   ],
   "source": [
    "newdf"
   ]
  },
  {
   "cell_type": "code",
   "execution_count": 21,
   "id": "42316194",
   "metadata": {},
   "outputs": [],
   "source": [
    "newdf.to_csv(\"NewDF.csv\")"
   ]
  },
  {
   "cell_type": "code",
   "execution_count": 22,
   "id": "0e08d2f9",
   "metadata": {
    "collapsed": true
   },
   "outputs": [
    {
     "data": {
      "text/html": [
       "<div>\n",
       "<style scoped>\n",
       "    .dataframe tbody tr th:only-of-type {\n",
       "        vertical-align: middle;\n",
       "    }\n",
       "\n",
       "    .dataframe tbody tr th {\n",
       "        vertical-align: top;\n",
       "    }\n",
       "\n",
       "    .dataframe thead th {\n",
       "        text-align: right;\n",
       "    }\n",
       "</style>\n",
       "<table border=\"1\" class=\"dataframe\">\n",
       "  <thead>\n",
       "    <tr style=\"text-align: right;\">\n",
       "      <th></th>\n",
       "      <th>0</th>\n",
       "      <th>1</th>\n",
       "      <th>2</th>\n",
       "      <th>3</th>\n",
       "      <th>4</th>\n",
       "    </tr>\n",
       "  </thead>\n",
       "  <tbody>\n",
       "    <tr>\n",
       "      <th>count</th>\n",
       "      <td>334.000000</td>\n",
       "      <td>334.000000</td>\n",
       "      <td>334.000000</td>\n",
       "      <td>334.000000</td>\n",
       "      <td>334.000000</td>\n",
       "    </tr>\n",
       "    <tr>\n",
       "      <th>mean</th>\n",
       "      <td>0.518836</td>\n",
       "      <td>0.492190</td>\n",
       "      <td>0.522602</td>\n",
       "      <td>0.491766</td>\n",
       "      <td>0.509436</td>\n",
       "    </tr>\n",
       "    <tr>\n",
       "      <th>std</th>\n",
       "      <td>0.289258</td>\n",
       "      <td>0.297926</td>\n",
       "      <td>0.302146</td>\n",
       "      <td>0.286619</td>\n",
       "      <td>0.284209</td>\n",
       "    </tr>\n",
       "    <tr>\n",
       "      <th>min</th>\n",
       "      <td>0.000047</td>\n",
       "      <td>0.002514</td>\n",
       "      <td>0.001213</td>\n",
       "      <td>0.001265</td>\n",
       "      <td>0.000587</td>\n",
       "    </tr>\n",
       "    <tr>\n",
       "      <th>25%</th>\n",
       "      <td>0.259488</td>\n",
       "      <td>0.223129</td>\n",
       "      <td>0.252264</td>\n",
       "      <td>0.244827</td>\n",
       "      <td>0.268967</td>\n",
       "    </tr>\n",
       "    <tr>\n",
       "      <th>50%</th>\n",
       "      <td>0.529307</td>\n",
       "      <td>0.474644</td>\n",
       "      <td>0.540003</td>\n",
       "      <td>0.481604</td>\n",
       "      <td>0.531536</td>\n",
       "    </tr>\n",
       "    <tr>\n",
       "      <th>75%</th>\n",
       "      <td>0.766557</td>\n",
       "      <td>0.767051</td>\n",
       "      <td>0.795860</td>\n",
       "      <td>0.731098</td>\n",
       "      <td>0.740356</td>\n",
       "    </tr>\n",
       "    <tr>\n",
       "      <th>max</th>\n",
       "      <td>0.998019</td>\n",
       "      <td>0.999173</td>\n",
       "      <td>0.995772</td>\n",
       "      <td>0.994450</td>\n",
       "      <td>0.998994</td>\n",
       "    </tr>\n",
       "  </tbody>\n",
       "</table>\n",
       "</div>"
      ],
      "text/plain": [
       "                0           1           2           3           4\n",
       "count  334.000000  334.000000  334.000000  334.000000  334.000000\n",
       "mean     0.518836    0.492190    0.522602    0.491766    0.509436\n",
       "std      0.289258    0.297926    0.302146    0.286619    0.284209\n",
       "min      0.000047    0.002514    0.001213    0.001265    0.000587\n",
       "25%      0.259488    0.223129    0.252264    0.244827    0.268967\n",
       "50%      0.529307    0.474644    0.540003    0.481604    0.531536\n",
       "75%      0.766557    0.767051    0.795860    0.731098    0.740356\n",
       "max      0.998019    0.999173    0.995772    0.994450    0.998994"
      ]
     },
     "execution_count": 22,
     "metadata": {},
     "output_type": "execute_result"
    }
   ],
   "source": [
    "newdf.describe()"
   ]
  },
  {
   "cell_type": "code",
   "execution_count": 26,
   "id": "56b1e4c7",
   "metadata": {},
   "outputs": [
    {
     "data": {
      "text/html": [
       "<div>\n",
       "<style scoped>\n",
       "    .dataframe tbody tr th:only-of-type {\n",
       "        vertical-align: middle;\n",
       "    }\n",
       "\n",
       "    .dataframe tbody tr th {\n",
       "        vertical-align: top;\n",
       "    }\n",
       "\n",
       "    .dataframe thead th {\n",
       "        text-align: right;\n",
       "    }\n",
       "</style>\n",
       "<table border=\"1\" class=\"dataframe\">\n",
       "  <thead>\n",
       "    <tr style=\"text-align: right;\">\n",
       "      <th></th>\n",
       "      <th>0</th>\n",
       "      <th>1</th>\n",
       "      <th>2</th>\n",
       "      <th>3</th>\n",
       "      <th>4</th>\n",
       "    </tr>\n",
       "  </thead>\n",
       "  <tbody>\n",
       "    <tr>\n",
       "      <th>42</th>\n",
       "      <td>0.000047</td>\n",
       "      <td>0.044730</td>\n",
       "      <td>0.539386</td>\n",
       "      <td>0.702009</td>\n",
       "      <td>0.586417</td>\n",
       "    </tr>\n",
       "    <tr>\n",
       "      <th>82</th>\n",
       "      <td>0.021573</td>\n",
       "      <td>0.038138</td>\n",
       "      <td>0.112578</td>\n",
       "      <td>0.279600</td>\n",
       "      <td>0.630152</td>\n",
       "    </tr>\n",
       "    <tr>\n",
       "      <th>96</th>\n",
       "      <td>0.024697</td>\n",
       "      <td>0.479577</td>\n",
       "      <td>0.423720</td>\n",
       "      <td>0.383020</td>\n",
       "      <td>0.732513</td>\n",
       "    </tr>\n",
       "    <tr>\n",
       "      <th>121</th>\n",
       "      <td>0.016566</td>\n",
       "      <td>0.528611</td>\n",
       "      <td>0.677459</td>\n",
       "      <td>0.513769</td>\n",
       "      <td>0.196438</td>\n",
       "    </tr>\n",
       "    <tr>\n",
       "      <th>147</th>\n",
       "      <td>0.049826</td>\n",
       "      <td>0.641601</td>\n",
       "      <td>0.452708</td>\n",
       "      <td>0.529924</td>\n",
       "      <td>0.595482</td>\n",
       "    </tr>\n",
       "    <tr>\n",
       "      <th>191</th>\n",
       "      <td>0.045370</td>\n",
       "      <td>0.881969</td>\n",
       "      <td>0.908059</td>\n",
       "      <td>0.192507</td>\n",
       "      <td>0.379004</td>\n",
       "    </tr>\n",
       "    <tr>\n",
       "      <th>196</th>\n",
       "      <td>0.008836</td>\n",
       "      <td>0.611695</td>\n",
       "      <td>0.204026</td>\n",
       "      <td>0.164160</td>\n",
       "      <td>0.524123</td>\n",
       "    </tr>\n",
       "    <tr>\n",
       "      <th>280</th>\n",
       "      <td>0.038086</td>\n",
       "      <td>0.809612</td>\n",
       "      <td>0.674165</td>\n",
       "      <td>0.991204</td>\n",
       "      <td>0.810395</td>\n",
       "    </tr>\n",
       "  </tbody>\n",
       "</table>\n",
       "</div>"
      ],
      "text/plain": [
       "            0         1         2         3         4\n",
       "42   0.000047  0.044730  0.539386  0.702009  0.586417\n",
       "82   0.021573  0.038138  0.112578  0.279600  0.630152\n",
       "96   0.024697  0.479577  0.423720  0.383020  0.732513\n",
       "121  0.016566  0.528611  0.677459  0.513769  0.196438\n",
       "147  0.049826  0.641601  0.452708  0.529924  0.595482\n",
       "191  0.045370  0.881969  0.908059  0.192507  0.379004\n",
       "196  0.008836  0.611695  0.204026  0.164160  0.524123\n",
       "280  0.038086  0.809612  0.674165  0.991204  0.810395"
      ]
     },
     "execution_count": 26,
     "metadata": {},
     "output_type": "execute_result"
    }
   ],
   "source": [
    "newdf.loc[(newdf[0] < 0.05) & (newdf[2]>0.1)]"
   ]
  },
  {
   "cell_type": "code",
   "execution_count": 28,
   "id": "a9feeecf",
   "metadata": {},
   "outputs": [],
   "source": [
    "mydf = pd.DataFrame(np.array([[12, 22], [25, 65], [15, 84]]))"
   ]
  },
  {
   "cell_type": "code",
   "execution_count": 29,
   "id": "b9180fbc",
   "metadata": {},
   "outputs": [
    {
     "data": {
      "text/html": [
       "<div>\n",
       "<style scoped>\n",
       "    .dataframe tbody tr th:only-of-type {\n",
       "        vertical-align: middle;\n",
       "    }\n",
       "\n",
       "    .dataframe tbody tr th {\n",
       "        vertical-align: top;\n",
       "    }\n",
       "\n",
       "    .dataframe thead th {\n",
       "        text-align: right;\n",
       "    }\n",
       "</style>\n",
       "<table border=\"1\" class=\"dataframe\">\n",
       "  <thead>\n",
       "    <tr style=\"text-align: right;\">\n",
       "      <th></th>\n",
       "      <th>0</th>\n",
       "      <th>1</th>\n",
       "    </tr>\n",
       "  </thead>\n",
       "  <tbody>\n",
       "    <tr>\n",
       "      <th>0</th>\n",
       "      <td>12</td>\n",
       "      <td>22</td>\n",
       "    </tr>\n",
       "    <tr>\n",
       "      <th>1</th>\n",
       "      <td>25</td>\n",
       "      <td>65</td>\n",
       "    </tr>\n",
       "    <tr>\n",
       "      <th>2</th>\n",
       "      <td>15</td>\n",
       "      <td>84</td>\n",
       "    </tr>\n",
       "  </tbody>\n",
       "</table>\n",
       "</div>"
      ],
      "text/plain": [
       "    0   1\n",
       "0  12  22\n",
       "1  25  65\n",
       "2  15  84"
      ]
     },
     "execution_count": 29,
     "metadata": {},
     "output_type": "execute_result"
    }
   ],
   "source": [
    "mydf"
   ]
  },
  {
   "cell_type": "code",
   "execution_count": 30,
   "id": "a05f73d3",
   "metadata": {},
   "outputs": [
    {
     "data": {
      "text/html": [
       "<div>\n",
       "<style scoped>\n",
       "    .dataframe tbody tr th:only-of-type {\n",
       "        vertical-align: middle;\n",
       "    }\n",
       "\n",
       "    .dataframe tbody tr th {\n",
       "        vertical-align: top;\n",
       "    }\n",
       "\n",
       "    .dataframe thead th {\n",
       "        text-align: right;\n",
       "    }\n",
       "</style>\n",
       "<table border=\"1\" class=\"dataframe\">\n",
       "  <thead>\n",
       "    <tr style=\"text-align: right;\">\n",
       "      <th></th>\n",
       "      <th>0</th>\n",
       "      <th>1</th>\n",
       "    </tr>\n",
       "  </thead>\n",
       "  <tbody>\n",
       "    <tr>\n",
       "      <th>count</th>\n",
       "      <td>3.000000</td>\n",
       "      <td>3.00000</td>\n",
       "    </tr>\n",
       "    <tr>\n",
       "      <th>mean</th>\n",
       "      <td>17.333333</td>\n",
       "      <td>57.00000</td>\n",
       "    </tr>\n",
       "    <tr>\n",
       "      <th>std</th>\n",
       "      <td>6.806859</td>\n",
       "      <td>31.76476</td>\n",
       "    </tr>\n",
       "    <tr>\n",
       "      <th>min</th>\n",
       "      <td>12.000000</td>\n",
       "      <td>22.00000</td>\n",
       "    </tr>\n",
       "    <tr>\n",
       "      <th>25%</th>\n",
       "      <td>13.500000</td>\n",
       "      <td>43.50000</td>\n",
       "    </tr>\n",
       "    <tr>\n",
       "      <th>50%</th>\n",
       "      <td>15.000000</td>\n",
       "      <td>65.00000</td>\n",
       "    </tr>\n",
       "    <tr>\n",
       "      <th>75%</th>\n",
       "      <td>20.000000</td>\n",
       "      <td>74.50000</td>\n",
       "    </tr>\n",
       "    <tr>\n",
       "      <th>max</th>\n",
       "      <td>25.000000</td>\n",
       "      <td>84.00000</td>\n",
       "    </tr>\n",
       "  </tbody>\n",
       "</table>\n",
       "</div>"
      ],
      "text/plain": [
       "               0         1\n",
       "count   3.000000   3.00000\n",
       "mean   17.333333  57.00000\n",
       "std     6.806859  31.76476\n",
       "min    12.000000  22.00000\n",
       "25%    13.500000  43.50000\n",
       "50%    15.000000  65.00000\n",
       "75%    20.000000  74.50000\n",
       "max    25.000000  84.00000"
      ]
     },
     "execution_count": 30,
     "metadata": {},
     "output_type": "execute_result"
    }
   ],
   "source": [
    "mydf.describe()"
   ]
  },
  {
   "cell_type": "code",
   "execution_count": 31,
   "id": "3c893041",
   "metadata": {},
   "outputs": [
    {
     "data": {
      "text/plain": [
       "0    17.333333\n",
       "1    57.000000\n",
       "dtype: float64"
      ]
     },
     "execution_count": 31,
     "metadata": {},
     "output_type": "execute_result"
    }
   ],
   "source": [
    "mydf.mean()"
   ]
  },
  {
   "cell_type": "code",
   "execution_count": 32,
   "id": "6b9df057",
   "metadata": {},
   "outputs": [
    {
     "data": {
      "text/html": [
       "<div>\n",
       "<style scoped>\n",
       "    .dataframe tbody tr th:only-of-type {\n",
       "        vertical-align: middle;\n",
       "    }\n",
       "\n",
       "    .dataframe tbody tr th {\n",
       "        vertical-align: top;\n",
       "    }\n",
       "\n",
       "    .dataframe thead th {\n",
       "        text-align: right;\n",
       "    }\n",
       "</style>\n",
       "<table border=\"1\" class=\"dataframe\">\n",
       "  <thead>\n",
       "    <tr style=\"text-align: right;\">\n",
       "      <th></th>\n",
       "      <th>0</th>\n",
       "      <th>1</th>\n",
       "    </tr>\n",
       "  </thead>\n",
       "  <tbody>\n",
       "    <tr>\n",
       "      <th>0</th>\n",
       "      <td>1.000000</td>\n",
       "      <td>0.427808</td>\n",
       "    </tr>\n",
       "    <tr>\n",
       "      <th>1</th>\n",
       "      <td>0.427808</td>\n",
       "      <td>1.000000</td>\n",
       "    </tr>\n",
       "  </tbody>\n",
       "</table>\n",
       "</div>"
      ],
      "text/plain": [
       "          0         1\n",
       "0  1.000000  0.427808\n",
       "1  0.427808  1.000000"
      ]
     },
     "execution_count": 32,
     "metadata": {},
     "output_type": "execute_result"
    }
   ],
   "source": [
    "mydf.corr()"
   ]
  },
  {
   "cell_type": "code",
   "execution_count": 33,
   "id": "6be48ad5",
   "metadata": {},
   "outputs": [
    {
     "data": {
      "text/plain": [
       "0    3\n",
       "1    3\n",
       "dtype: int64"
      ]
     },
     "execution_count": 33,
     "metadata": {},
     "output_type": "execute_result"
    }
   ],
   "source": [
    "mydf.count()"
   ]
  },
  {
   "cell_type": "code",
   "execution_count": 34,
   "id": "80dee666",
   "metadata": {},
   "outputs": [
    {
     "data": {
      "text/plain": [
       "0    25\n",
       "1    84\n",
       "dtype: int32"
      ]
     },
     "execution_count": 34,
     "metadata": {},
     "output_type": "execute_result"
    }
   ],
   "source": [
    "mydf.max()"
   ]
  },
  {
   "cell_type": "code",
   "execution_count": 35,
   "id": "fe0d7a4e",
   "metadata": {},
   "outputs": [
    {
     "data": {
      "text/plain": [
       "0    12\n",
       "1    22\n",
       "dtype: int32"
      ]
     },
     "execution_count": 35,
     "metadata": {},
     "output_type": "execute_result"
    }
   ],
   "source": [
    "mydf.min()"
   ]
  },
  {
   "cell_type": "code",
   "execution_count": 36,
   "id": "f3abe65a",
   "metadata": {},
   "outputs": [
    {
     "data": {
      "text/plain": [
       "0     6.806859\n",
       "1    31.764760\n",
       "dtype: float64"
      ]
     },
     "execution_count": 36,
     "metadata": {},
     "output_type": "execute_result"
    }
   ],
   "source": [
    "mydf.std()"
   ]
  },
  {
   "cell_type": "code",
   "execution_count": 37,
   "id": "a190e393",
   "metadata": {},
   "outputs": [
    {
     "data": {
      "text/plain": [
       "0    15.0\n",
       "1    65.0\n",
       "dtype: float64"
      ]
     },
     "execution_count": 37,
     "metadata": {},
     "output_type": "execute_result"
    }
   ],
   "source": [
    "mydf.median()"
   ]
  },
  {
   "cell_type": "code",
   "execution_count": null,
   "id": "36a721fe",
   "metadata": {},
   "outputs": [],
   "source": []
  }
 ],
 "metadata": {
  "kernelspec": {
   "display_name": "Python 3 (ipykernel)",
   "language": "python",
   "name": "python3"
  },
  "language_info": {
   "codemirror_mode": {
    "name": "ipython",
    "version": 3
   },
   "file_extension": ".py",
   "mimetype": "text/x-python",
   "name": "python",
   "nbconvert_exporter": "python",
   "pygments_lexer": "ipython3",
   "version": "3.10.1"
  }
 },
 "nbformat": 4,
 "nbformat_minor": 5
}
